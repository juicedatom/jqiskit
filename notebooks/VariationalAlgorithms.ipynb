{
 "cells": [
  {
   "cell_type": "markdown",
   "metadata": {},
   "source": [
    "# Example of a variational quantum circuit.\n",
    "\n",
    "This is a very simple example of how to generate a custom circuit with a custom loss function."
   ]
  },
  {
   "cell_type": "code",
   "execution_count": 1,
   "metadata": {},
   "outputs": [
    {
     "name": "stdout",
     "output_type": "stream",
     "text": [
      "Hadamard: (0,)\n",
      "Hadamard: (1,)\n",
      "CX: (0, 1)\n",
      "Parametric: (0,)\n",
      "Parametric: (1,)\n",
      "SQRTNOT: (0,)\n",
      "SQRTNOT: (1,)\n",
      "CSWAP: (0, 1, 2)\n"
     ]
    }
   ],
   "source": [
    "from jqiskit.api import QuantumCircuit\n",
    "import numpy as np\n",
    "\n",
    "# Build a simple three bit quantum circuit.\n",
    "n_qubits = 4\n",
    "qc = QuantumCircuit(n_qubits)\n",
    "qc.h(0)\n",
    "qc.h(1)\n",
    "qc.cx(0, 1)\n",
    "# Some weird gates based on a phase shift gate.\n",
    "qc.parametric('[[1., 0.,],[0., exp(1.0j * global_0)]]', 0)\n",
    "qc.parametric('[[exp(-1.0j * global_1), 0.,],[0., exp(-1.0j * global_0)]]', 1)\n",
    "qc.sqrtnot(0)\n",
    "qc.sqrtnot(1)\n",
    "qc.cswap(0, 1, 2)\n",
    "\n",
    "print(qc)"
   ]
  },
  {
   "cell_type": "code",
   "execution_count": 2,
   "metadata": {},
   "outputs": [],
   "source": [
    "def cost_function(global_0, global_1):\n",
    "    \"\"\"Simple cost function to put into the black-box optimizer.\"\"\"\n",
    "    counts, _ = qc.measure(num_shots=100, feed_dict={'global_0': global_0, 'global_1': global_1})\n",
    "    values = list(counts.values())\n",
    "    # I just made up some nonsense cost here.\n",
    "    return (np.mean(values) / np.sum(values) - 0.25)**2"
   ]
  },
  {
   "cell_type": "code",
   "execution_count": 3,
   "metadata": {},
   "outputs": [
    {
     "data": {
      "text/plain": [
       "   direc: array([[ 0.        ,  1.        ],\n",
       "       [-1.57168623, -1.75872693]])\n",
       "     fun: 0.0\n",
       " message: 'Optimization terminated successfully.'\n",
       "    nfev: 139\n",
       "     nit: 2\n",
       "  status: 0\n",
       " success: True\n",
       "       x: array([3.63730826, 3.8832105 ])"
      ]
     },
     "execution_count": 3,
     "metadata": {},
     "output_type": "execute_result"
    }
   ],
   "source": [
    "from scipy.optimize import minimize\n",
    "\n",
    "x0 = [np.pi / 2, np.pi / 2]\n",
    "minimize(lambda x_in: cost_function(x_in[0], x_in[1]),\n",
    "         x0, method='powell',\n",
    "         bounds=((0.0, 2*np.pi), (0.0, 2 * np.pi)),\n",
    "         tol=1e-5)"
   ]
  }
 ],
 "metadata": {
  "kernelspec": {
   "display_name": "Python 3",
   "language": "python",
   "name": "python3"
  },
  "language_info": {
   "codemirror_mode": {
    "name": "ipython",
    "version": 3
   },
   "file_extension": ".py",
   "mimetype": "text/x-python",
   "name": "python",
   "nbconvert_exporter": "python",
   "pygments_lexer": "ipython3",
   "version": "3.9.1"
  }
 },
 "nbformat": 4,
 "nbformat_minor": 4
}
