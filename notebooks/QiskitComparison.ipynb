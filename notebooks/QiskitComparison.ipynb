{
 "cells": [
  {
   "cell_type": "markdown",
   "metadata": {},
   "source": [
    "# Qiskit Comparison\n",
    "This notebook highlights how my simulator is a nice little subset of qiskit's simulator."
   ]
  },
  {
   "cell_type": "markdown",
   "metadata": {},
   "source": [
    "## Qiskit Circuit\n",
    "To validate my implementation, first we create a simple circuit in qiskit and run simluation on it."
   ]
  },
  {
   "cell_type": "code",
   "execution_count": 1,
   "metadata": {},
   "outputs": [
    {
     "data": {
      "text/html": [
       "<pre style=\"word-wrap: normal;white-space: pre;background: #fff0;line-height: 1.1;font-family: &quot;Courier New&quot;,Courier,monospace\">     ┌───┐              ┌─┐      \n",
       "q_0: ┤ H ├────────────■─┤M├──────\n",
       "     ├───┤┌─────────┐ │ └╥┘┌─┐   \n",
       "q_1: ┤ H ├┤ unitary ├─┼──╫─┤M├───\n",
       "     └┬─┬┘└─────────┘ │  ║ └╥┘   \n",
       "q_2: ─┤M├─────────────┼──╫──╫────\n",
       "      └╥┘     ┌─┐     │  ║  ║    \n",
       "q_3: ──╫──────┤M├─────┼──╫──╫────\n",
       "       ║      └╥┘     │  ║  ║ ┌─┐\n",
       "q_4: ──╫───────╫──────■──╫──╫─┤M├\n",
       "       ║       ║         ║  ║ └╥┘\n",
       "c: 5/══╩═══════╩═════════╩══╩══╩═\n",
       "       2       3         0  1  4 </pre>"
      ],
      "text/plain": [
       "     ┌───┐              ┌─┐      \n",
       "q_0: ┤ H ├────────────■─┤M├──────\n",
       "     ├───┤┌─────────┐ │ └╥┘┌─┐   \n",
       "q_1: ┤ H ├┤ unitary ├─┼──╫─┤M├───\n",
       "     └┬─┬┘└─────────┘ │  ║ └╥┘   \n",
       "q_2: ─┤M├─────────────┼──╫──╫────\n",
       "      └╥┘     ┌─┐     │  ║  ║    \n",
       "q_3: ──╫──────┤M├─────┼──╫──╫────\n",
       "       ║      └╥┘     │  ║  ║ ┌─┐\n",
       "q_4: ──╫───────╫──────■──╫──╫─┤M├\n",
       "       ║       ║         ║  ║ └╥┘\n",
       "c: 5/══╩═══════╩═════════╩══╩══╩═\n",
       "       2       3         0  1  4 "
      ]
     },
     "execution_count": 1,
     "metadata": {},
     "output_type": "execute_result"
    }
   ],
   "source": [
    "from qiskit import QuantumCircuit\n",
    "\n",
    "qc = QuantumCircuit(5, 5)\n",
    "qc.h(0)\n",
    "qc.h(1)\n",
    "qc.cz(0, 4)\n",
    "qc.unitary([[0.5 + 0.5j, 0.5 - 0.5j], [0.5 - 0.5j, 0.5 + 0.5j]], 1)\n",
    "out = qc.measure([0, 1, 2, 3, 4], [0, 1, 2, 3, 4])\n",
    "qc.draw()\n"
   ]
  },
  {
   "cell_type": "code",
   "execution_count": 2,
   "metadata": {},
   "outputs": [
    {
     "ename": "ImportError",
     "evalue": "cannot import name 'executee' from 'qiskit' (/usr/lib/python3.9/site-packages/qiskit/__init__.py)",
     "output_type": "error",
     "traceback": [
      "\u001b[0;31m---------------------------------------------------------------------------\u001b[0m",
      "\u001b[0;31mImportError\u001b[0m                               Traceback (most recent call last)",
      "\u001b[0;32m<ipython-input-2-797319f3093c>\u001b[0m in \u001b[0;36m<module>\u001b[0;34m\u001b[0m\n\u001b[0;32m----> 1\u001b[0;31m \u001b[0;32mfrom\u001b[0m \u001b[0mqiskit\u001b[0m \u001b[0;32mimport\u001b[0m \u001b[0mAer\u001b[0m\u001b[0;34m,\u001b[0m \u001b[0mexecutee\u001b[0m\u001b[0;34m\u001b[0m\u001b[0;34m\u001b[0m\u001b[0m\n\u001b[0m\u001b[1;32m      2\u001b[0m \u001b[0;32mimport\u001b[0m \u001b[0mtime\u001b[0m\u001b[0;34m\u001b[0m\u001b[0;34m\u001b[0m\u001b[0m\n\u001b[1;32m      3\u001b[0m \u001b[0;34m\u001b[0m\u001b[0m\n\u001b[1;32m      4\u001b[0m \u001b[0;32mdef\u001b[0m \u001b[0msimulate\u001b[0m\u001b[0;34m(\u001b[0m\u001b[0mcircuit\u001b[0m\u001b[0;34m,\u001b[0m \u001b[0mnum_shots\u001b[0m\u001b[0;34m)\u001b[0m\u001b[0;34m:\u001b[0m\u001b[0;34m\u001b[0m\u001b[0;34m\u001b[0m\u001b[0m\n\u001b[1;32m      5\u001b[0m     \u001b[0mbackend_sim\u001b[0m \u001b[0;34m=\u001b[0m \u001b[0mAer\u001b[0m\u001b[0;34m.\u001b[0m\u001b[0mget_backend\u001b[0m\u001b[0;34m(\u001b[0m\u001b[0;34m'qasm_simulator'\u001b[0m\u001b[0;34m)\u001b[0m\u001b[0;34m\u001b[0m\u001b[0;34m\u001b[0m\u001b[0m\n",
      "\u001b[0;31mImportError\u001b[0m: cannot import name 'executee' from 'qiskit' (/usr/lib/python3.9/site-packages/qiskit/__init__.py)"
     ]
    }
   ],
   "source": [
    "from qiskit import Aer, execute\n",
    "import time\n",
    "\n",
    "def simulate(circuit, num_shots):\n",
    "    backend_sim = Aer.get_backend('qasm_simulator')\n",
    "    job_sim = execute(circuit, backend_sim, shots=num_shots)\n",
    "    result_sim = job_sim.result()\n",
    "    return result_sim.get_counts(circuit)\n",
    "\n",
    "start = time.time()\n",
    "qiskit_counts = simulate(qc, num_shots=10000)\n",
    "qiskit_diff = time.time() - start"
   ]
  },
  {
   "cell_type": "markdown",
   "metadata": {},
   "source": [
    "## JQiskit Circuit\n",
    "Here is the equivalent simulator in `jqiskit`. Notice how the API is pretty much the same, the main difference is that the `qc.measure()` function does both the simulation and state generation."
   ]
  },
  {
   "cell_type": "code",
   "execution_count": null,
   "metadata": {},
   "outputs": [],
   "source": [
    "from jqiskit.api import QuantumCircuit as JQuantumCircuit\n",
    "\n",
    "qc = JQuantumCircuit(5)\n",
    "qc.h(0)\n",
    "qc.h(1)\n",
    "qc.cz(0, 4)\n",
    "qc.sqrtnot(1)\n",
    "\n",
    "start = time.time()\n",
    "jqiskit_counts, state = qc.measure(num_shots=10000)\n",
    "jqiskit_diff = time.time() - start"
   ]
  },
  {
   "cell_type": "markdown",
   "metadata": {},
   "source": [
    "## Timing Comparison\n",
    "\n",
    "This clearly isn't a fair fight, as qiskit is probably doing a bunch of stuff under the hood for more complex features that I'm not doing for this simple simulator. But for what it's worth the simple version is significantly faster for the circuit described above. This may indicate a need for a more light-weight framework in the future for faster hyper parameter searches and stuff like that. For example, you can imagine a world where variational optimizations are first done on a faster, more ideal solver and then fine-tuned on a slower more accuate one."
   ]
  },
  {
   "cell_type": "code",
   "execution_count": null,
   "metadata": {},
   "outputs": [],
   "source": [
    "print(f'jqiskit_speed: {jqiskit_diff * 1000:.2f} ms')\n",
    "print(f' qiskit_speed: {qiskit_diff * 1000:.2f} ms')"
   ]
  },
  {
   "cell_type": "markdown",
   "metadata": {},
   "source": [
    "## Validation\n",
    "\n",
    "I then compared the two by looking at the simulation output states. Note how qiskit is the opposite endian-ness as my implementation, so I had to flip the state to do a proper comparison."
   ]
  },
  {
   "cell_type": "code",
   "execution_count": null,
   "metadata": {},
   "outputs": [],
   "source": [
    "assert len(jqiskit_counts) == len(qiskit_counts), \"Number of states don't match!\"\n",
    "\n",
    "for state_str in jqiskit_counts:\n",
    "    print(f'state: {state_str}, qiskit: {qiskit_counts[state_str[::-1]]}; jqiskit: {jqiskit_counts[state_str]}')"
   ]
  }
 ],
 "metadata": {
  "kernelspec": {
   "display_name": "Python 3",
   "language": "python",
   "name": "python3"
  },
  "language_info": {
   "codemirror_mode": {
    "name": "ipython",
    "version": 3
   },
   "file_extension": ".py",
   "mimetype": "text/x-python",
   "name": "python",
   "nbconvert_exporter": "python",
   "pygments_lexer": "ipython3",
   "version": "3.9.1"
  }
 },
 "nbformat": 4,
 "nbformat_minor": 4
}
