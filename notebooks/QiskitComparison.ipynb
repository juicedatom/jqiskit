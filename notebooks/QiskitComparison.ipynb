{
 "cells": [
  {
   "cell_type": "markdown",
   "metadata": {},
   "source": [
    "# Qiskit Comparison\n",
    "This notebook highlights how my simulator is a nice little subset of qiskit's simulator."
   ]
  },
  {
   "cell_type": "markdown",
   "metadata": {},
   "source": [
    "## Qiskit Circuit\n",
    "To validate my implementation, first we create a simple circuit in qiskit and run simluation on it."
   ]
  },
  {
   "cell_type": "code",
   "execution_count": 1,
   "metadata": {},
   "outputs": [
    {
     "data": {
      "text/html": [
       "<pre style=\"word-wrap: normal;white-space: pre;background: #fff0;line-height: 1.1;font-family: &quot;Courier New&quot;,Courier,monospace\">     ┌───┐              ┌─┐      \n",
       "q_0: ┤ H ├────────────■─┤M├──────\n",
       "     ├───┤┌─────────┐ │ └╥┘┌─┐   \n",
       "q_1: ┤ H ├┤ unitary ├─┼──╫─┤M├───\n",
       "     └┬─┬┘└─────────┘ │  ║ └╥┘   \n",
       "q_2: ─┤M├─────────────┼──╫──╫────\n",
       "      └╥┘     ┌─┐     │  ║  ║    \n",
       "q_3: ──╫──────┤M├─────┼──╫──╫────\n",
       "       ║      └╥┘     │  ║  ║ ┌─┐\n",
       "q_4: ──╫───────╫──────■──╫──╫─┤M├\n",
       "       ║       ║         ║  ║ └╥┘\n",
       "c: 5/══╩═══════╩═════════╩══╩══╩═\n",
       "       2       3         0  1  4 </pre>"
      ],
      "text/plain": [
       "     ┌───┐              ┌─┐      \n",
       "q_0: ┤ H ├────────────■─┤M├──────\n",
       "     ├───┤┌─────────┐ │ └╥┘┌─┐   \n",
       "q_1: ┤ H ├┤ unitary ├─┼──╫─┤M├───\n",
       "     └┬─┬┘└─────────┘ │  ║ └╥┘   \n",
       "q_2: ─┤M├─────────────┼──╫──╫────\n",
       "      └╥┘     ┌─┐     │  ║  ║    \n",
       "q_3: ──╫──────┤M├─────┼──╫──╫────\n",
       "       ║      └╥┘     │  ║  ║ ┌─┐\n",
       "q_4: ──╫───────╫──────■──╫──╫─┤M├\n",
       "       ║       ║         ║  ║ └╥┘\n",
       "c: 5/══╩═══════╩═════════╩══╩══╩═\n",
       "       2       3         0  1  4 "
      ]
     },
     "execution_count": 1,
     "metadata": {},
     "output_type": "execute_result"
    }
   ],
   "source": [
    "from qiskit import QuantumCircuit\n",
    "\n",
    "qc = QuantumCircuit(5, 5)\n",
    "qc.h(0)\n",
    "qc.h(1)\n",
    "qc.cz(0, 4)\n",
    "qc.unitary([[0.5 + 0.5j, 0.5 - 0.5j], [0.5 - 0.5j, 0.5 + 0.5j]], 1)\n",
    "out = qc.measure([0, 1, 2, 3, 4], [0, 1, 2, 3, 4])\n",
    "qc.draw()\n"
   ]
  },
  {
   "cell_type": "code",
   "execution_count": 2,
   "metadata": {},
   "outputs": [],
   "source": [
    "from qiskit import Aer, execute\n",
    "import time\n",
    "\n",
    "def simulate(circuit, num_shots):\n",
    "    backend_sim = Aer.get_backend('qasm_simulator')\n",
    "    job_sim = execute(circuit, backend_sim, shots=num_shots)\n",
    "    result_sim = job_sim.result()\n",
    "    return result_sim.get_counts(circuit)\n",
    "\n",
    "start = time.time()\n",
    "qiskit_counts = simulate(qc, num_shots=10000)\n",
    "qiskit_diff = time.time() - start"
   ]
  },
  {
   "cell_type": "markdown",
   "metadata": {},
   "source": [
    "## JQiskit Circuit\n",
    "Then I built the same circuit in my simulator and ran it."
   ]
  },
  {
   "cell_type": "code",
   "execution_count": 3,
   "metadata": {},
   "outputs": [],
   "source": [
    "from jqiskit.api import QuantumCircuit as JQuantumCircuit\n",
    "\n",
    "qc = JQuantumCircuit(5)\n",
    "qc.h(0)\n",
    "qc.h(1)\n",
    "qc.cz(0, 4)\n",
    "qc.sqrtnot(1)\n",
    "\n",
    "start = time.time()\n",
    "jqiskit_counts, state = qc.measure(num_shots=10000)\n",
    "jqiskit_diff = time.time() - start"
   ]
  },
  {
   "cell_type": "markdown",
   "metadata": {},
   "source": [
    "## Timing Comparison\n",
    "\n",
    "This clearly isn't a fair fight, as qiskit is probably doing a bunch of stuff under the hood for more complex features that I'm not doing for this simple simulator. But for what it's worth the simple version is significantly faster for the circuit described above. This may indicate a need for a more light-weight framework in the future for faster hyper parameter searches and stuff like that."
   ]
  },
  {
   "cell_type": "code",
   "execution_count": 4,
   "metadata": {},
   "outputs": [
    {
     "name": "stdout",
     "output_type": "stream",
     "text": [
      "jqiskit_speed: 6.23 ms\n",
      " qiskit_speed: 127.32 ms\n"
     ]
    }
   ],
   "source": [
    "print(f'jqiskit_speed: {jqiskit_diff * 1000:.2f} ms')\n",
    "print(f' qiskit_speed: {qiskit_diff * 1000:.2f} ms')"
   ]
  },
  {
   "cell_type": "markdown",
   "metadata": {},
   "source": [
    "## Validation\n",
    "\n",
    "I then compared the two by looking at the simulation output states. Note how qiskit is the opposite endian-ness as my implementation, so I had to flip the state to do a proper comparison."
   ]
  },
  {
   "cell_type": "code",
   "execution_count": 5,
   "metadata": {},
   "outputs": [
    {
     "name": "stdout",
     "output_type": "stream",
     "text": [
      "state: 11000, qiskit: 2515; jqiskit: 2449\n",
      "state: 01000, qiskit: 2478; jqiskit: 2499\n",
      "state: 10000, qiskit: 2467; jqiskit: 2507\n",
      "state: 00000, qiskit: 2540; jqiskit: 2545\n"
     ]
    }
   ],
   "source": [
    "assert len(jqiskit_counts) == len(qiskit_counts), \"Number of states don't match!\"\n",
    "\n",
    "for state_str in jqiskit_counts:\n",
    "    print(f'state: {state_str}, qiskit: {qiskit_counts[state_str[::-1]]}; jqiskit: {jqiskit_counts[state_str]}')"
   ]
  },
  {
   "cell_type": "code",
   "execution_count": 6,
   "metadata": {},
   "outputs": [
    {
     "name": "stdout",
     "output_type": "stream",
     "text": [
      "1\n"
     ]
    },
    {
     "data": {
      "text/plain": [
       "({'00': 1000}, array([1.+0.j, 0.+0.j, 0.+0.j, 0.+0.j]))"
      ]
     },
     "execution_count": 6,
     "metadata": {},
     "output_type": "execute_result"
    }
   ],
   "source": [
    "import numpy as np\n",
    "\n",
    "qc = JQuantumCircuit(2)\n",
    "qc.parametric('[[1, 0.], [0.0 , exp(1.0j*theta)]]', 0)\n",
    "theta = np.pi / 7\n",
    "qc.measure(feed_dict={'theta': theta})"
   ]
  },
  {
   "cell_type": "code",
   "execution_count": 7,
   "metadata": {},
   "outputs": [
    {
     "data": {
      "text/plain": [
       "{'00': 10000}"
      ]
     },
     "execution_count": 7,
     "metadata": {},
     "output_type": "execute_result"
    }
   ],
   "source": [
    "qc = QuantumCircuit(2, 2)\n",
    "qc.unitary([[1, 0.], [0.0, np.exp(1.0j*theta)]], 0)\n",
    "qc.measure([0, 1], [0, 1])\n",
    "simulate(qc, 10000)"
   ]
  },
  {
   "cell_type": "code",
   "execution_count": null,
   "metadata": {},
   "outputs": [],
   "source": []
  },
  {
   "cell_type": "code",
   "execution_count": null,
   "metadata": {},
   "outputs": [],
   "source": []
  }
 ],
 "metadata": {
  "kernelspec": {
   "display_name": "Python 3",
   "language": "python",
   "name": "python3"
  },
  "language_info": {
   "codemirror_mode": {
    "name": "ipython",
    "version": 3
   },
   "file_extension": ".py",
   "mimetype": "text/x-python",
   "name": "python",
   "nbconvert_exporter": "python",
   "pygments_lexer": "ipython3",
   "version": "3.9.1"
  }
 },
 "nbformat": 4,
 "nbformat_minor": 4
}
