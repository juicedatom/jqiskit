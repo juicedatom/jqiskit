{
 "cells": [
  {
   "cell_type": "markdown",
   "metadata": {},
   "source": [
    "# Small Circuit with Single Gate Example\n",
    "\n",
    "This is a small example I wrote that showcases the a three-input quantum gate taking advantage of out-of-order inputs."
   ]
  },
  {
   "cell_type": "code",
   "execution_count": 2,
   "metadata": {},
   "outputs": [
    {
     "name": "stdout",
     "output_type": "stream",
     "text": [
      "Logic Table for the CSWAP function.\n",
      "\n",
      "The control bit is designated by the 'c' \n",
      "The two bits that might be swapped are 'p' and 'q'.\n",
      "\n",
      "in      | out\n",
      "q c   p | q c   p\n",
      "0 1 2 3 | 0 1 2 3\n",
      "-----------------\n",
      "0 0 0 0 | 0 0 0 0 \n",
      "0 0 0 1 | 0 0 0 1 \n",
      "0 0 1 0 | 0 0 1 0 \n",
      "0 0 1 1 | 0 0 1 1 \n",
      "0 1 0 0 | 0 1 0 0 \n",
      "0 1 0 1 | 1 1 0 0 <------\n",
      "0 1 1 0 | 0 1 1 0 \n",
      "0 1 1 1 | 1 1 1 0 <------\n",
      "1 0 0 0 | 1 0 0 0 \n",
      "1 0 0 1 | 1 0 0 1 \n",
      "1 0 1 0 | 1 0 1 0 \n",
      "1 0 1 1 | 1 0 1 1 \n",
      "1 1 0 0 | 0 1 0 1 <------\n",
      "1 1 0 1 | 1 1 0 1 \n",
      "1 1 1 0 | 0 1 1 1 <------\n",
      "1 1 1 1 | 1 1 1 1 \n"
     ]
    }
   ],
   "source": [
    "from jqiskit.api import QuantumCircuit\n",
    "from jqiskit.backend import _format_binary\n",
    "import numpy as np\n",
    "\n",
    "def format_vec_as_binary(vec: np.ndarray) -> str:\n",
    "    \"\"\"Small helper function to grab the bits out of flattened state.\"\"\"\n",
    "    idx = np.where(vec == 1.0)[0][0]\n",
    "    return _format_binary(idx, int(np.log2(len(vec)))).replace(\"\", \" \")[1:]\n",
    "\n",
    "\n",
    "# Build a simple three bit quantum circuit.\n",
    "n_qubits = 4\n",
    "qc = QuantumCircuit(n_qubits)\n",
    "\n",
    "# Here, we add a swap gate that swaps bits 0 and 3, conditioned on the\n",
    "# qubit in position 1. Note that in this circuit, bit 2 should never change.\n",
    "c = 1\n",
    "p = 3\n",
    "q = 0\n",
    "qc.cswap(c, p, q)\n",
    "\n",
    "print('Logic Table for the CSWAP function.')\n",
    "print('')\n",
    "print('The control bit is designated by the \\'c\\' ')\n",
    "print('The two bits that might be swapped are \\'p\\' and \\'q\\'.')\n",
    "print('')\n",
    "print('in      | out')\n",
    "print('q c   p | q c   p')\n",
    "print('0 1 2 3 | 0 1 2 3')\n",
    "print('-----------------')\n",
    "for idx in range(2**n_qubits):\n",
    "    state = np.zeros((2**n_qubits,))\n",
    "    state[idx] = 1\n",
    "    before = format_vec_as_binary(state)\n",
    "    after = format_vec_as_binary(qc.measure(initial_state=state)[1])\n",
    "    \n",
    "    # Highlight the differences.\n",
    "    arrow = '<------' if before != after else ''\n",
    "    print(before + '| ' + after + arrow)"
   ]
  },
  {
   "cell_type": "code",
   "execution_count": null,
   "metadata": {},
   "outputs": [],
   "source": []
  },
  {
   "cell_type": "code",
   "execution_count": null,
   "metadata": {},
   "outputs": [],
   "source": []
  }
 ],
 "metadata": {
  "kernelspec": {
   "display_name": "Python 3",
   "language": "python",
   "name": "python3"
  },
  "language_info": {
   "codemirror_mode": {
    "name": "ipython",
    "version": 3
   },
   "file_extension": ".py",
   "mimetype": "text/x-python",
   "name": "python",
   "nbconvert_exporter": "python",
   "pygments_lexer": "ipython3",
   "version": "3.9.1"
  }
 },
 "nbformat": 4,
 "nbformat_minor": 4
}
