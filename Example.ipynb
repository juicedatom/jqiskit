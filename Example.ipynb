{
 "cells": [
  {
   "cell_type": "markdown",
   "metadata": {},
   "source": [
    "# Problem 4 Solution\n",
    "\n",
    "I chose to do problem 4 from the list of screener questions. I didn't look at the qiskit implementation, except to compare the output of my code and that of qiskit."
   ]
  },
  {
   "cell_type": "markdown",
   "metadata": {},
   "source": [
    "## Qiskit Circuit\n",
    "To validate my implementation, first we create a simple circuit in qiskit and run simluation on it."
   ]
  },
  {
   "cell_type": "code",
   "execution_count": 24,
   "metadata": {},
   "outputs": [
    {
     "data": {
      "text/html": [
       "<pre style=\"word-wrap: normal;white-space: pre;background: #fff0;line-height: 1.1;font-family: &quot;Courier New&quot;,Courier,monospace\">     ┌───┐              ┌─┐      \n",
       "q_0: ┤ H ├────────────■─┤M├──────\n",
       "     ├───┤┌─────────┐ │ └╥┘┌─┐   \n",
       "q_1: ┤ H ├┤ unitary ├─┼──╫─┤M├───\n",
       "     └┬─┬┘└─────────┘ │  ║ └╥┘   \n",
       "q_2: ─┤M├─────────────┼──╫──╫────\n",
       "      └╥┘     ┌─┐     │  ║  ║    \n",
       "q_3: ──╫──────┤M├─────┼──╫──╫────\n",
       "       ║      └╥┘     │  ║  ║ ┌─┐\n",
       "q_4: ──╫───────╫──────■──╫──╫─┤M├\n",
       "       ║       ║         ║  ║ └╥┘\n",
       "c: 5/══╩═══════╩═════════╩══╩══╩═\n",
       "       2       3         0  1  4 </pre>"
      ],
      "text/plain": [
       "     ┌───┐              ┌─┐      \n",
       "q_0: ┤ H ├────────────■─┤M├──────\n",
       "     ├───┤┌─────────┐ │ └╥┘┌─┐   \n",
       "q_1: ┤ H ├┤ unitary ├─┼──╫─┤M├───\n",
       "     └┬─┬┘└─────────┘ │  ║ └╥┘   \n",
       "q_2: ─┤M├─────────────┼──╫──╫────\n",
       "      └╥┘     ┌─┐     │  ║  ║    \n",
       "q_3: ──╫──────┤M├─────┼──╫──╫────\n",
       "       ║      └╥┘     │  ║  ║ ┌─┐\n",
       "q_4: ──╫───────╫──────■──╫──╫─┤M├\n",
       "       ║       ║         ║  ║ └╥┘\n",
       "c: 5/══╩═══════╩═════════╩══╩══╩═\n",
       "       2       3         0  1  4 "
      ]
     },
     "execution_count": 24,
     "metadata": {},
     "output_type": "execute_result"
    }
   ],
   "source": [
    "from qiskit import QuantumCircuit\n",
    "\n",
    "qc = QuantumCircuit(5, 5)\n",
    "qc.h(0)\n",
    "qc.h(1)\n",
    "qc.cz(0, 4)\n",
    "qc.unitary([[0.5 + 0.5j, 0.5 - 0.5j], [0.5 - 0.5j, 0.5 + 0.5j]], 1)\n",
    "out = qc.measure([0, 1, 2, 3, 4], [0, 1, 2, 3, 4])\n",
    "qc.draw()\n"
   ]
  },
  {
   "cell_type": "code",
   "execution_count": 25,
   "metadata": {},
   "outputs": [],
   "source": [
    "from qiskit import Aer, execute\n",
    "\n",
    "def simulate(circuit, num_shots):\n",
    "    backend_sim = Aer.get_backend('qasm_simulator')\n",
    "    job_sim = execute(circuit, backend_sim, shots=num_shots)\n",
    "    result_sim = job_sim.result()\n",
    "    return result_sim.get_counts(circuit)\n",
    "\n",
    "qiskit_counts = simulate(qc, num_shots=10000)"
   ]
  },
  {
   "cell_type": "markdown",
   "metadata": {},
   "source": [
    "## JQiskit Circuit\n",
    "Then I built the same circuit in my simulator and ran it."
   ]
  },
  {
   "cell_type": "code",
   "execution_count": 26,
   "metadata": {},
   "outputs": [
    {
     "name": "stdout",
     "output_type": "stream",
     "text": [
      "Hadamard: (0,)\n",
      "Hadamard: (1,)\n",
      "CZ: (0, 4)\n",
      "SQRTNOT: (1,)\n"
     ]
    }
   ],
   "source": [
    "from jqiskit.api import QuantumCircuit as JQuantumCircuit\n",
    "\n",
    "qc = JQuantumCircuit(5)\n",
    "qc.h(0)\n",
    "qc.h(1)\n",
    "qc.cz(0, 4)\n",
    "qc.sqrtnot(1)\n",
    "print(qc)\n",
    "jqiskit_counts, state = qc.measure(num_shots=10000)"
   ]
  },
  {
   "cell_type": "markdown",
   "metadata": {},
   "source": [
    "## Validation\n",
    "\n",
    "I then compared the two by looking at the simulation output states. Note how qiskit is the opposite endian-ness as my implementation, so I had to flip the state to do a proper comparison."
   ]
  },
  {
   "cell_type": "code",
   "execution_count": 27,
   "metadata": {},
   "outputs": [
    {
     "name": "stdout",
     "output_type": "stream",
     "text": [
      "4\n",
      "state: 01000, qiskit: 2516; jqiskit: 2576\n",
      "state: 11000, qiskit: 2424; jqiskit: 2476\n",
      "state: 10000, qiskit: 2526; jqiskit: 2491\n",
      "state: 00000, qiskit: 2534; jqiskit: 2457\n"
     ]
    }
   ],
   "source": [
    "assert len(jqiskit_counts) == len(qiskit_counts), \"Number of states don't match!\"\n",
    "print(len(qiskit_counts))\n",
    "\n",
    "for state_str in jqiskit_counts:\n",
    "    print(f'state: {state_str}, qiskit: {qiskit_counts[state_str[::-1]]}; jqiskit: {jqiskit_counts[state_str]}')"
   ]
  },
  {
   "cell_type": "code",
   "execution_count": 28,
   "metadata": {},
   "outputs": [
    {
     "name": "stdout",
     "output_type": "stream",
     "text": [
      "1\n"
     ]
    },
    {
     "data": {
      "text/plain": [
       "({'00': 1000}, array([1.+0.j, 0.+0.j, 0.+0.j, 0.+0.j]))"
      ]
     },
     "execution_count": 28,
     "metadata": {},
     "output_type": "execute_result"
    }
   ],
   "source": [
    "import numpy as np\n",
    "\n",
    "qc = JQuantumCircuit(2)\n",
    "qc.parametric('[[1, 0.], [0.0 , exp(1.0j*theta)]]', 0)\n",
    "theta = np.pi / 7\n",
    "qc.measure(feed_dict={'theta': theta})"
   ]
  },
  {
   "cell_type": "code",
   "execution_count": 29,
   "metadata": {},
   "outputs": [
    {
     "data": {
      "text/plain": [
       "{'00': 10000}"
      ]
     },
     "execution_count": 29,
     "metadata": {},
     "output_type": "execute_result"
    }
   ],
   "source": [
    "qc = QuantumCircuit(2, 2)\n",
    "qc.unitary([[1, 0.], [0.0, np.exp(1.0j*theta)]], 0)\n",
    "qc.measure([0, 1], [0, 1])\n",
    "simulate(qc, 10000)"
   ]
  },
  {
   "cell_type": "code",
   "execution_count": 30,
   "metadata": {},
   "outputs": [
    {
     "name": "stdout",
     "output_type": "stream",
     "text": [
      "[(8, 9), (7, 8), (6, 7), (5, 6), (4, 5), (3, 4), (5, 6)]\n",
      "[]\n",
      "[]\n",
      "[(0, 1)]\n",
      "[(5, 6), (4, 5)]\n",
      "[(4, 5), (3, 4)]\n"
     ]
    }
   ],
   "source": [
    "import numpy as np\n",
    "from typing import List\n",
    "\n",
    "def generate_swaps(targets: List[int]):\n",
    "    \n",
    "    swap_list = []\n",
    "    min_target = min(targets)\n",
    "    max_target = max(targets)\n",
    "    \n",
    "    offset = max_target - min_target\n",
    "    tmp = np.full((max_target - min_target + 1, ), np.nan)\n",
    "    \n",
    "    for idx, target in enumerate(targets):\n",
    "        tmp[target - min_target] = idx\n",
    "    for idx in range(len(targets)):\n",
    "        tmp_idx = np.where(tmp == idx)[0][0]\n",
    "        for jdx in reversed(range(idx + 1, tmp_idx + 1)):\n",
    "            swap_list.append((jdx - 1 + min_target, jdx + min_target))\n",
    "            tmp[jdx], tmp[jdx - 1] =  tmp[jdx - 1], tmp[jdx]\n",
    "            \n",
    "    return swap_list\n",
    "        \n",
    "print(generate_swaps([9, 3, 5]))\n",
    "print(generate_swaps([0]))\n",
    "print(generate_swaps([0, 1]))\n",
    "print(generate_swaps([1, 0]))\n",
    "print(generate_swaps([3, 6]))\n",
    "print(generate_swaps([5, 3]))"
   ]
  },
  {
   "cell_type": "code",
   "execution_count": 31,
   "metadata": {},
   "outputs": [],
   "source": [
    "foo = [] + [1,2] + [3] + list(reversed([1,2]))"
   ]
  },
  {
   "cell_type": "code",
   "execution_count": 32,
   "metadata": {},
   "outputs": [],
   "source": [
    "foo += [4]"
   ]
  },
  {
   "cell_type": "code",
   "execution_count": 10,
   "metadata": {},
   "outputs": [
    {
     "data": {
      "text/plain": [
       "[1, 2, 3, 2, 1, 4]"
      ]
     },
     "execution_count": 10,
     "metadata": {},
     "output_type": "execute_result"
    }
   ],
   "source": [
    "foo"
   ]
  },
  {
   "cell_type": "code",
   "execution_count": null,
   "metadata": {},
   "outputs": [],
   "source": []
  }
 ],
 "metadata": {
  "kernelspec": {
   "display_name": "Python 3",
   "language": "python",
   "name": "python3"
  },
  "language_info": {
   "codemirror_mode": {
    "name": "ipython",
    "version": 3
   },
   "file_extension": ".py",
   "mimetype": "text/x-python",
   "name": "python",
   "nbconvert_exporter": "python",
   "pygments_lexer": "ipython3",
   "version": "3.9.1"
  }
 },
 "nbformat": 4,
 "nbformat_minor": 4
}
