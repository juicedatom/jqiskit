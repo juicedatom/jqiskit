{
 "cells": [
  {
   "cell_type": "markdown",
   "metadata": {},
   "source": [
    "# Problem 4 Solution\n",
    "\n",
    "I chose to do problem 4 from the list of screener questions. I didn't look at the qiskit implementation, except to compare the output of my code and that of qiskit."
   ]
  },
  {
   "cell_type": "markdown",
   "metadata": {},
   "source": [
    "## Qiskit Circuit\n",
    "To validate my implementation, first we create a simple circuit in qiskit and run simluation on it."
   ]
  },
  {
   "cell_type": "code",
   "execution_count": 1,
   "metadata": {},
   "outputs": [
    {
     "data": {
      "text/html": [
       "<pre style=\"word-wrap: normal;white-space: pre;background: #fff0;line-height: 1.1;font-family: &quot;Courier New&quot;,Courier,monospace\">        ┌───┐   ┌───┐             ┌─┐      \n",
       "q_0: ───┤ H ├───┤ X ├──────■──────┤M├──────\n",
       "        ├───┤   └─┬─┘┌───┐ │      └╥┘┌─┐   \n",
       "q_1: ───┤ H ├─────■──┤ Y ├─┼───────╫─┤M├───\n",
       "     ┌──┴───┴──┐ ┌─┐ └─┬─┘ │       ║ └╥┘   \n",
       "q_2: ┤ unitary ├─┤M├───┼───┼───────╫──╫────\n",
       "     └─────────┘ └╥┘   │   │ ┌───┐ ║  ║ ┌─┐\n",
       "q_3: ─────────────╫────■───┼─┤ H ├─╫──╫─┤M├\n",
       "                  ║        │ └┬─┬┘ ║  ║ └╥┘\n",
       "q_4: ─────────────╫────────■──┤M├──╫──╫──╫─\n",
       "                  ║           └╥┘  ║  ║  ║ \n",
       "c: 5/═════════════╩════════════╩═══╩══╩══╩═\n",
       "                  2            4   0  1  3 </pre>"
      ],
      "text/plain": [
       "        ┌───┐   ┌───┐             ┌─┐      \n",
       "q_0: ───┤ H ├───┤ X ├──────■──────┤M├──────\n",
       "        ├───┤   └─┬─┘┌───┐ │      └╥┘┌─┐   \n",
       "q_1: ───┤ H ├─────■──┤ Y ├─┼───────╫─┤M├───\n",
       "     ┌──┴───┴──┐ ┌─┐ └─┬─┘ │       ║ └╥┘   \n",
       "q_2: ┤ unitary ├─┤M├───┼───┼───────╫──╫────\n",
       "     └─────────┘ └╥┘   │   │ ┌───┐ ║  ║ ┌─┐\n",
       "q_3: ─────────────╫────■───┼─┤ H ├─╫──╫─┤M├\n",
       "                  ║        │ └┬─┬┘ ║  ║ └╥┘\n",
       "q_4: ─────────────╫────────■──┤M├──╫──╫──╫─\n",
       "                  ║           └╥┘  ║  ║  ║ \n",
       "c: 5/═════════════╩════════════╩═══╩══╩══╩═\n",
       "                  2            4   0  1  3 "
      ]
     },
     "execution_count": 1,
     "metadata": {},
     "output_type": "execute_result"
    }
   ],
   "source": [
    "from qiskit import QuantumCircuit\n",
    "\n",
    "qc = QuantumCircuit(5, 5)\n",
    "qc.h(0)\n",
    "qc.h(1)\n",
    "qc.cx(1, 0)\n",
    "qc.cy(3, 1)\n",
    "qc.cz(0, 4)\n",
    "qc.h(3)\n",
    "qc.unitary([[0.5 + 0.5j, 0.5 - 0.5j], [0.5 - 0.5j, 0.5 + 0.5j]], 2)\n",
    "out = qc.measure([0, 1, 2, 3, 4], [0, 1, 2, 3, 4])\n",
    "qc.draw()\n"
   ]
  },
  {
   "cell_type": "code",
   "execution_count": 2,
   "metadata": {},
   "outputs": [],
   "source": [
    "from qiskit import Aer, execute\n",
    "\n",
    "# Use Aer's qasm_simulator\n",
    "backend_sim = Aer.get_backend('qasm_simulator')\n",
    "\n",
    "# Execute the circuit on the qasm simulator.\n",
    "# We've set the number of repeats of the circuit\n",
    "# to be 1024, which is the default.\n",
    "job_sim = execute(qc, backend_sim, shots=10000)\n",
    "\n",
    "# Grab the results from the job.\n",
    "result_sim = job_sim.result()\n",
    "qiskit_counts = result_sim.get_counts(qc)"
   ]
  },
  {
   "cell_type": "markdown",
   "metadata": {},
   "source": [
    "## JQiskit Circuit\n",
    "Then I built the same circuit in my simulator and ran it."
   ]
  },
  {
   "cell_type": "code",
   "execution_count": 3,
   "metadata": {},
   "outputs": [
    {
     "name": "stdout",
     "output_type": "stream",
     "text": [
      "Hadamard: (0,)\n",
      "Hadamard: (1,)\n",
      "CX: (1, 0)\n",
      "CY: (3, 1)\n",
      "CZ: (0, 4)\n",
      "Hadamard: (3,)\n",
      "SQRTNOT: (2,)\n"
     ]
    }
   ],
   "source": [
    "from jqiskit.api import QuantumCircuit as JQuantumCircuit\n",
    "\n",
    "qc = JQuantumCircuit(5)\n",
    "qc.h(0)\n",
    "qc.h(1)\n",
    "qc.cx(1, 0)\n",
    "qc.cy(3, 1)\n",
    "qc.cz(0, 4)\n",
    "qc.h(3)\n",
    "qc.sqrtnot(2)\n",
    "print(qc)\n",
    "jqiskit_counts, state = qc.measure(num_shots=10000)"
   ]
  },
  {
   "cell_type": "markdown",
   "metadata": {},
   "source": [
    "## Validation\n",
    "\n",
    "I then compared the two by looking at the simulation output states. Note how qiskit is the opposite endian-ness as my implementation, so I had to flip the state to do a proper comparison."
   ]
  },
  {
   "cell_type": "code",
   "execution_count": 4,
   "metadata": {},
   "outputs": [
    {
     "name": "stdout",
     "output_type": "stream",
     "text": [
      "state: 00100, qiskit: 621; jqiskit: 620\n",
      "state: 01000, qiskit: 621; jqiskit: 597\n",
      "state: 10000, qiskit: 634; jqiskit: 610\n",
      "state: 00110, qiskit: 622; jqiskit: 672\n",
      "state: 00010, qiskit: 656; jqiskit: 655\n",
      "state: 11010, qiskit: 635; jqiskit: 647\n",
      "state: 01110, qiskit: 604; jqiskit: 590\n",
      "state: 01100, qiskit: 605; jqiskit: 624\n",
      "state: 11000, qiskit: 624; jqiskit: 647\n",
      "state: 11110, qiskit: 619; jqiskit: 578\n",
      "state: 11100, qiskit: 635; jqiskit: 609\n",
      "state: 10110, qiskit: 589; jqiskit: 589\n",
      "state: 10100, qiskit: 628; jqiskit: 628\n",
      "state: 00000, qiskit: 648; jqiskit: 657\n",
      "state: 01010, qiskit: 625; jqiskit: 620\n",
      "state: 10010, qiskit: 634; jqiskit: 657\n"
     ]
    }
   ],
   "source": [
    "assert len(jqiskit_counts) == len(qiskit_counts), \"Number of states don't match!\"\n",
    "\n",
    "for state_str in jqiskit_counts:\n",
    "    print(f'state: {state_str}, qiskit: {qiskit_counts[state_str[::-1]]}; jqiskit: {jqiskit_counts[state_str]}')"
   ]
  },
  {
   "cell_type": "code",
   "execution_count": 5,
   "metadata": {},
   "outputs": [
    {
     "data": {
      "text/plain": [
       "({'0': 221, '1': 779}, array([0.4+1.j, 2. +0.j]))"
      ]
     },
     "execution_count": 5,
     "metadata": {},
     "output_type": "execute_result"
    }
   ],
   "source": [
    "import numpy as np\n",
    "\n",
    "qc = JQuantumCircuit(1)\n",
    "qc.parametric('[[1j + 0.4, 2], [3j ,4 + sin(theta)]]', 0)\n",
    "qc.measure(feed_dict={'theta': np.pi/4})"
   ]
  },
  {
   "cell_type": "code",
   "execution_count": null,
   "metadata": {},
   "outputs": [],
   "source": []
  }
 ],
 "metadata": {
  "kernelspec": {
   "display_name": "Python 3",
   "language": "python",
   "name": "python3"
  },
  "language_info": {
   "codemirror_mode": {
    "name": "ipython",
    "version": 3
   },
   "file_extension": ".py",
   "mimetype": "text/x-python",
   "name": "python",
   "nbconvert_exporter": "python",
   "pygments_lexer": "ipython3",
   "version": "3.9.1"
  }
 },
 "nbformat": 4,
 "nbformat_minor": 4
}
